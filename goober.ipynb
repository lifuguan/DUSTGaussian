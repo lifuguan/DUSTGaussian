{
 "cells": [
  {
   "cell_type": "code",
   "execution_count": 12,
   "metadata": {},
   "outputs": [],
   "source": [
    "import yaml\n",
    "class ConfigObject:\n",
    "    def __init__(self, dictionary):\n",
    "        for key, value in dictionary.items():\n",
    "            if isinstance(value, dict):\n",
    "                value = ConfigObject(value)\n",
    "            self.__dict__[key] = value\n",
    "\n",
    "    def __repr__(self):\n",
    "        return f\"{self.__dict__}\"\n",
    "\n",
    "def convert_path_to_filepath(base_path, module, value):\n",
    "    # Convert path like 'mvsplat/encoder: costvolume' to 'mvsplat/encoder/costvolume.yaml'\n",
    "    return f\"{base_path}/{module[0]}/{module[1]}/{value}.yaml\"\n",
    "\n",
    "def load_yaml_config(config_path):\n",
    "    with open(config_path, 'r') as file:\n",
    "        config_dict = yaml.safe_load(file)\n",
    "    return config_dict\n",
    "\n",
    "def load_config(config_path):\n",
    "    config_dict = load_yaml_config(config_path)\n",
    "    for entry in config_dict['defaults']:\n",
    "        for key, value in entry.items():\n",
    "            # Split the key on '/' and load corresponding YAML file\n",
    "            parts = key.split('/')\n",
    "            module, attribute = parts[0], parts[1]\n",
    "            yaml_file_path = convert_path_to_filepath('./configs', parts, value)\n",
    "            additional_config = load_yaml_config(yaml_file_path)\n",
    "            \n",
    "            # Place the loaded configuration into a structured object\n",
    "            if module not in config_dict:\n",
    "                config_dict[module] = {}\n",
    "            config_dict[module][attribute] = additional_config\n",
    "    return ConfigObject(config_dict)\n",
    "\n",
    "\n",
    "# Load the configuration\n",
    "config = load_config('../GGRtPlus/configs/finetune_mvsplat_stable.yaml')\n",
    "\n"
   ]
  },
  {
   "cell_type": "code",
   "execution_count": 2,
   "metadata": {},
   "outputs": [],
   "source": [
    "import torch\n",
    "model1 = torch.load(\"out/generalized_mvspla_view_4/model/model_008000.pth\")\n",
    "model2 = torch.load(\"model_zoo/mvsplat.pth\")"
   ]
  },
  {
   "cell_type": "code",
   "execution_count": 5,
   "metadata": {},
   "outputs": [],
   "source": [
    "model2['model'] = model1['gaussian']"
   ]
  },
  {
   "cell_type": "code",
   "execution_count": 6,
   "metadata": {},
   "outputs": [],
   "source": [
    "torch.save(model2, 'model_zoo/mvsplat.pth')"
   ]
  },
  {
   "cell_type": "code",
   "execution_count": null,
   "metadata": {},
   "outputs": [],
   "source": []
  }
 ],
 "metadata": {
  "kernelspec": {
   "display_name": "splatam",
   "language": "python",
   "name": "python3"
  },
  "language_info": {
   "codemirror_mode": {
    "name": "ipython",
    "version": 3
   },
   "file_extension": ".py",
   "mimetype": "text/x-python",
   "name": "python",
   "nbconvert_exporter": "python",
   "pygments_lexer": "ipython3",
   "version": "3.10.13"
  }
 },
 "nbformat": 4,
 "nbformat_minor": 2
}
